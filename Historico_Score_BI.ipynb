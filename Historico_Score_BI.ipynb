{
 "cells": [
  {
   "cell_type": "code",
   "execution_count": 1,
   "metadata": {},
   "outputs": [],
   "source": [
    "import glob\n",
    "import pandas as pd\n",
    "from datetime import datetime\n",
    "import os"
   ]
  },
  {
   "cell_type": "code",
   "execution_count": 2,
   "metadata": {},
   "outputs": [],
   "source": [
    "path_enviados = os.getcwd() +'\\\\' + 'Score_enviados'"
   ]
  },
  {
   "cell_type": "code",
   "execution_count": 3,
   "metadata": {},
   "outputs": [],
   "source": [
    "all_files = glob.glob(path_enviados + \"/*\"+\".csv\")"
   ]
  },
  {
   "cell_type": "code",
   "execution_count": 4,
   "metadata": {},
   "outputs": [
    {
     "name": "stderr",
     "output_type": "stream",
     "text": [
      "<ipython-input-4-0fb3b6376809>:7: ParserWarning: Falling back to the 'python' engine because the 'c' engine does not support regex separators (separators > 1 char and different from '\\s+' are interpreted as regex); you can avoid this warning by specifying engine='python'.\n",
      "  df = pd.read_csv(filename, index_col=None, header=0, delimiter =\"\\s+|;|,\")\n",
      "<ipython-input-4-0fb3b6376809>:7: ParserWarning: Falling back to the 'python' engine because the 'c' engine does not support regex separators (separators > 1 char and different from '\\s+' are interpreted as regex); you can avoid this warning by specifying engine='python'.\n",
      "  df = pd.read_csv(filename, index_col=None, header=0, delimiter =\"\\s+|;|,\")\n"
     ]
    }
   ],
   "source": [
    "all_files = glob.glob(path_enviados + \"/*\"+\".csv\")\n",
    "\n",
    "li = []\n",
    "\n",
    "for filename in all_files:\n",
    "    try:\n",
    "        df = pd.read_csv(filename, index_col=None, header=0, delimiter =\"\\s+|;|,\")\n",
    "        df[\"data\"]=datetime.fromtimestamp(os.path.getmtime(filename)).strftime('%Y%m%d')\n",
    "        \n",
    "        #df_final=pd.concat([df_inicio,df])\n",
    "        li.append(df)\n",
    "    except: pass"
   ]
  },
  {
   "cell_type": "code",
   "execution_count": 5,
   "metadata": {},
   "outputs": [],
   "source": [
    "try:     \n",
    "    enviados = pd.concat(li, axis=0, ignore_index=True)\n",
    "    #enviados.drop_duplicates(subset=['data', 'ID_LEAD'], inplace=True)\n",
    "    #lista de corretores que já trabalharam hoje por id do lead\n",
    "    enviados_2 = enviados\n",
    "    \n",
    "except: pass"
   ]
  },
  {
   "cell_type": "code",
   "execution_count": 6,
   "metadata": {},
   "outputs": [],
   "source": [
    "enviados_2.to_csv('historico_score.csv', index=False)"
   ]
  },
  {
   "cell_type": "code",
   "execution_count": 7,
   "metadata": {},
   "outputs": [],
   "source": [
    "import salva_historico_BI as bi"
   ]
  },
  {
   "cell_type": "code",
   "execution_count": 8,
   "metadata": {},
   "outputs": [
    {
     "name": "stdout",
     "output_type": "stream",
     "text": [
      "Here's a list of files: \n",
      "\n",
      "{'id': '1lwL7NF3ptxdcNT2IMgn5TWL0sR8M_kji', 'name': 'historico_match.csv'}\n",
      "\n"
     ]
    }
   ],
   "source": [
    "salvar = bi.DriveAPI()"
   ]
  },
  {
   "cell_type": "code",
   "execution_count": 9,
   "metadata": {},
   "outputs": [
    {
     "name": "stdout",
     "output_type": "stream",
     "text": [
      "File Uploaded.\n"
     ]
    }
   ],
   "source": [
    "salvar.FileUpload(\"historico_score.csv\")"
   ]
  },
  {
   "cell_type": "code",
   "execution_count": 10,
   "metadata": {},
   "outputs": [
    {
     "name": "stderr",
     "output_type": "stream",
     "text": [
      "[NbConvertApp] Converting notebook Historico_Score_BI.ipynb to script\n",
      "[NbConvertApp] Writing 1173 bytes to Historico_Score_BI.py\n"
     ]
    }
   ],
   "source": [
    "!jupyter nbconvert --to script Historico_Score_BI.ipynb"
   ]
  },
  {
   "cell_type": "code",
   "execution_count": null,
   "metadata": {},
   "outputs": [],
   "source": []
  }
 ],
 "metadata": {
  "kernelspec": {
   "display_name": "Python 3",
   "language": "python",
   "name": "python3"
  },
  "language_info": {
   "codemirror_mode": {
    "name": "ipython",
    "version": 3
   },
   "file_extension": ".py",
   "mimetype": "text/x-python",
   "name": "python",
   "nbconvert_exporter": "python",
   "pygments_lexer": "ipython3",
   "version": "3.8.3"
  }
 },
 "nbformat": 4,
 "nbformat_minor": 4
}
