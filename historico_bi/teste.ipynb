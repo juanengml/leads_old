{
 "cells": [
  {
   "cell_type": "code",
   "execution_count": 14,
   "metadata": {},
   "outputs": [],
   "source": [
    "import glob\n",
    "import pandas as pd\n",
    "from datetime import datetime\n",
    "import os\n",
    "\n"
   ]
  },
  {
   "cell_type": "code",
   "execution_count": null,
   "metadata": {},
   "outputs": [],
   "source": [
    "os.getcwd()"
   ]
  },
  {
   "cell_type": "code",
   "execution_count": null,
   "metadata": {},
   "outputs": [],
   "source": [
    "#path_enviados = os.getcwd() +'\\\\' + 'enviados\\\\backup'\n",
    "path_enviados ='C:\\\\Users\\\\lumini04\\\\Desktop\\\\MOTOR_LEADS_NOVO\\enviados\\\\backup'"
   ]
  },
  {
   "cell_type": "code",
   "execution_count": null,
   "metadata": {},
   "outputs": [],
   "source": [
    "df_base_geral = pd.DataFrame()"
   ]
  },
  {
   "cell_type": "code",
   "execution_count": null,
   "metadata": {},
   "outputs": [],
   "source": [
    "df_sub_analise = df.ilo[1,0]"
   ]
  },
  {
   "cell_type": "code",
   "execution_count": null,
   "metadata": {},
   "outputs": [],
   "source": [
    "import pandas as pd\n",
    "from datetime import datetime\n",
    "import os\n",
    "import salva_historico_BI as bi\n",
    "\n",
    "def score():\n",
    "    all_files = glob.glob('../recebidos/backup' + \"/*\"+\".csv\")   \n",
    "    li = []\n",
    "    \n",
    "    for filename in all_files:\n",
    "        try:\n",
    "            df = pd.read_csv(filename, index_col=None, header=0, sep=\"[;,]\", engine='python')\n",
    "            df[\"data\"]=datetime.fromtimestamp(os.path.getmtime(filename)).strftime('%Y%m%d')\n",
    "            li.append(df)\n",
    "        except: pass\n",
    "    \n",
    "    try:     \n",
    "        enviados = pd.concat(li, axis=0, ignore_index=True)\n",
    "        enviados_2 = enviados\n",
    "        \n",
    "    except: pass\n",
    "    \n",
    "    enviados_2.to_csv('historico_Match_recebido.csv', index=False)\n",
    "    return enviados_2"
   ]
  },
  {
   "cell_type": "code",
   "execution_count": null,
   "metadata": {},
   "outputs": [],
   "source": [
    "df_enviados=score()\n"
   ]
  },
  {
   "cell_type": "code",
   "execution_count": null,
   "metadata": {},
   "outputs": [],
   "source": [
    "df_enviados.columns"
   ]
  },
  {
   "cell_type": "code",
   "execution_count": null,
   "metadata": {},
   "outputs": [],
   "source": [
    "df_enviados.data"
   ]
  },
  {
   "cell_type": "code",
   "execution_count": null,
   "metadata": {},
   "outputs": [],
   "source": []
  },
  {
   "cell_type": "code",
   "execution_count": null,
   "metadata": {},
   "outputs": [],
   "source": [
    "nom= 'nome'+'.csv'"
   ]
  },
  {
   "cell_type": "code",
   "execution_count": null,
   "metadata": {},
   "outputs": [],
   "source": [
    "from azure.storage.blob import BlockBlobService"
   ]
  },
  {
   "cell_type": "code",
   "execution_count": null,
   "metadata": {},
   "outputs": [],
   "source": [
    "BlobServiceClient()"
   ]
  },
  {
   "cell_type": "code",
   "execution_count": 10,
   "metadata": {},
   "outputs": [],
   "source": [
    "import io\n",
    "\n",
    "output = io.StringIO()\n",
    "\n",
    "\n",
    "accountName = 'prd360v15fs'\n",
    "accountKey = \"IfFR5e+a8HmOij0Z0jU9CDOkMYUxBB8of2oJZXSlGnjv8Pdtz5F+jPXnoM3sPIAM++tQuJsp+4/2tsfVOa71HA==\"\n",
    "containerName = \"powerbi\"\n",
    "blobName = \"test3.json\"\n",
    "accounturl = 'DefaultEndpointsProtocol=https;AccountName=prd360v15fs;AccountKey=IfFR5e+a8HmOij0Z0jU9CDOkMYUxBB8of2oJZXSlGnjv8Pdtz5F+jPXnoM3sPIAM++tQuJsp+4/2tsfVOa71HA==;EndpointSuffix=core.windows.net'\n",
    "\n"
   ]
  },
  {
   "cell_type": "code",
   "execution_count": null,
   "metadata": {},
   "outputs": [],
   "source": []
  },
  {
   "cell_type": "code",
   "execution_count": null,
   "metadata": {},
   "outputs": [],
   "source": [
    "blob_service_client = BlobServiceClient.from_connection_string(accounturl)"
   ]
  },
  {
   "cell_type": "code",
   "execution_count": null,
   "metadata": {},
   "outputs": [],
   "source": [
    "upload_file_path = 'historico_score.csv'\n",
    "# Create a blob client using the local file name as the name for the blob\n",
    "blob_client = blob_service_client.get_blob_client(container=containerName, blob=upload_file_path)\n",
    "\n",
    "print(\"\\nUploading to Azure Storage as blob:\\n\\t\" + upload_file_path)\n",
    "\n"
   ]
  },
  {
   "cell_type": "code",
   "execution_count": null,
   "metadata": {},
   "outputs": [],
   "source": [
    "# Upload the created file\n",
    "with open(upload_file_path, \"rb\") as data:\n",
    "    blob_client.upload_blob(data)"
   ]
  },
  {
   "cell_type": "code",
   "execution_count": 11,
   "metadata": {},
   "outputs": [],
   "source": [
    "from azure.storage.blob import BlobServiceClient, BlobClient, ContainerClient\n",
    "def delete_folder(FOLDER_NAME):\n",
    "    blob_service_client = BlobServiceClient.from_connection_string(conn_str=accounturl)\n",
    "    blob_client = blob_service_client.get_container_client('powerbi')\n",
    "\n",
    "    for blob in blob_client.list_blobs(name_starts_with=FOLDER_NAME):\n",
    "        blob_client.delete_blob(blob.name)"
   ]
  },
  {
   "cell_type": "code",
   "execution_count": 13,
   "metadata": {},
   "outputs": [],
   "source": [
    "test_del =delete_folder('historico_match.csv')"
   ]
  },
  {
   "cell_type": "code",
   "execution_count": 3,
   "metadata": {},
   "outputs": [],
   "source": [
    "from salva_azure import salva_blob"
   ]
  },
  {
   "cell_type": "code",
   "execution_count": 4,
   "metadata": {},
   "outputs": [],
   "source": [
    "salva_blob(nome_arq='historico_score.csv')"
   ]
  },
  {
   "cell_type": "code",
   "execution_count": 25,
   "metadata": {
    "scrolled": true
   },
   "outputs": [],
   "source": [
    "corretore = pd.read_excel('consultores_canal_interno.xlsx')"
   ]
  },
  {
   "cell_type": "code",
   "execution_count": 28,
   "metadata": {},
   "outputs": [
    {
     "data": {
      "text/html": [
       "<div>\n",
       "<style scoped>\n",
       "    .dataframe tbody tr th:only-of-type {\n",
       "        vertical-align: middle;\n",
       "    }\n",
       "\n",
       "    .dataframe tbody tr th {\n",
       "        vertical-align: top;\n",
       "    }\n",
       "\n",
       "    .dataframe thead th {\n",
       "        text-align: right;\n",
       "    }\n",
       "</style>\n",
       "<table border=\"1\" class=\"dataframe\">\n",
       "  <thead>\n",
       "    <tr style=\"text-align: right;\">\n",
       "      <th></th>\n",
       "      <th>NOME</th>\n",
       "      <th>CPF</th>\n",
       "      <th>COORDENADOR</th>\n",
       "      <th>UF</th>\n",
       "    </tr>\n",
       "  </thead>\n",
       "  <tbody>\n",
       "    <tr>\n",
       "      <th>0</th>\n",
       "      <td>ARIANE SANTANA DE SOUZA</td>\n",
       "      <td>50288034805</td>\n",
       "      <td>ADRIANO TIMOTEO DE OLIVEIRA</td>\n",
       "      <td>SP</td>\n",
       "    </tr>\n",
       "    <tr>\n",
       "      <th>1</th>\n",
       "      <td>BIANCA CUEBAS MELE</td>\n",
       "      <td>29531565856</td>\n",
       "      <td>ADRIANO TIMOTEO DE OLIVEIRA</td>\n",
       "      <td>SP</td>\n",
       "    </tr>\n",
       "    <tr>\n",
       "      <th>2</th>\n",
       "      <td>CABRINE ALVES ABACHERLY</td>\n",
       "      <td>40865083894</td>\n",
       "      <td>ADRIANO TIMOTEO DE OLIVEIRA</td>\n",
       "      <td>SP</td>\n",
       "    </tr>\n",
       "    <tr>\n",
       "      <th>3</th>\n",
       "      <td>CLAUDIO ROBERTO DA SILVA</td>\n",
       "      <td>27386152876</td>\n",
       "      <td>ADRIANO TIMOTEO DE OLIVEIRA</td>\n",
       "      <td>SP</td>\n",
       "    </tr>\n",
       "    <tr>\n",
       "      <th>4</th>\n",
       "      <td>DANIELA ALTOBELLO</td>\n",
       "      <td>28110991823</td>\n",
       "      <td>ADRIANO TIMOTEO DE OLIVEIRA</td>\n",
       "      <td>SP</td>\n",
       "    </tr>\n",
       "  </tbody>\n",
       "</table>\n",
       "</div>"
      ],
      "text/plain": [
       "                       NOME          CPF                  COORDENADOR  UF\n",
       "0   ARIANE SANTANA DE SOUZA  50288034805  ADRIANO TIMOTEO DE OLIVEIRA  SP\n",
       "1        BIANCA CUEBAS MELE  29531565856  ADRIANO TIMOTEO DE OLIVEIRA  SP\n",
       "2   CABRINE ALVES ABACHERLY  40865083894  ADRIANO TIMOTEO DE OLIVEIRA  SP\n",
       "3  CLAUDIO ROBERTO DA SILVA  27386152876  ADRIANO TIMOTEO DE OLIVEIRA  SP\n",
       "4         DANIELA ALTOBELLO  28110991823  ADRIANO TIMOTEO DE OLIVEIRA  SP"
      ]
     },
     "execution_count": 28,
     "metadata": {},
     "output_type": "execute_result"
    }
   ],
   "source": [
    "corretore.head()"
   ]
  },
  {
   "cell_type": "code",
   "execution_count": 30,
   "metadata": {},
   "outputs": [
    {
     "ename": "ModuleNotFoundError",
     "evalue": "No module named 'config'",
     "output_type": "error",
     "traceback": [
      "\u001b[1;31m---------------------------------------------------------------------------\u001b[0m",
      "\u001b[1;31mModuleNotFoundError\u001b[0m                       Traceback (most recent call last)",
      "\u001b[1;32m<ipython-input-30-756f30e2e8a6>\u001b[0m in \u001b[0;36m<module>\u001b[1;34m\u001b[0m\n\u001b[0;32m      2\u001b[0m \u001b[1;32mimport\u001b[0m \u001b[0mjson\u001b[0m\u001b[1;33m\u001b[0m\u001b[1;33m\u001b[0m\u001b[0m\n\u001b[0;32m      3\u001b[0m \u001b[1;32mimport\u001b[0m \u001b[0mpandas\u001b[0m \u001b[1;32mas\u001b[0m \u001b[0mpd\u001b[0m\u001b[1;33m\u001b[0m\u001b[1;33m\u001b[0m\u001b[0m\n\u001b[1;32m----> 4\u001b[1;33m \u001b[1;32mimport\u001b[0m \u001b[0mconfig\u001b[0m\u001b[1;33m\u001b[0m\u001b[1;33m\u001b[0m\u001b[0m\n\u001b[0m\u001b[0;32m      5\u001b[0m \u001b[1;32mfrom\u001b[0m \u001b[0mdatetime\u001b[0m \u001b[1;32mimport\u001b[0m \u001b[0mdatetime\u001b[0m\u001b[1;33m\u001b[0m\u001b[1;33m\u001b[0m\u001b[0m\n\u001b[0;32m      6\u001b[0m \u001b[1;32mimport\u001b[0m \u001b[0mnumpy\u001b[0m \u001b[1;32mas\u001b[0m \u001b[0mnp\u001b[0m\u001b[1;33m\u001b[0m\u001b[1;33m\u001b[0m\u001b[0m\n",
      "\u001b[1;31mModuleNotFoundError\u001b[0m: No module named 'config'"
     ]
    }
   ],
   "source": [
    "import requests\n",
    "import json\n",
    "import pandas as pd\n",
    "import config\n",
    "from datetime import datetime\n",
    "import numpy as np\n",
    "import config\n",
    "import joblib\n",
    "import aux_function\n",
    "import random\n",
    "#FILES-----------------------------\n",
    "from artefatos import capacity_corretor, profissao_lista_representativa\n",
    "from artefatos import MIDIA_VEICULO_lista_representativa, Listas, xgboost_loaded_model\n",
    "from artefatos import lista_novas_origens, ddd, idhm, matriz, corretores\n",
    "from artefatos import categoria_treino, base_fair_motor, enviados_count_corretor_redistribuicao"
   ]
  },
  {
   "cell_type": "code",
   "execution_count": 29,
   "metadata": {},
   "outputs": [],
   "source": []
  },
  {
   "cell_type": "code",
   "execution_count": null,
   "metadata": {},
   "outputs": [],
   "source": []
  },
  {
   "cell_type": "code",
   "execution_count": null,
   "metadata": {},
   "outputs": [],
   "source": []
  },
  {
   "cell_type": "code",
   "execution_count": null,
   "metadata": {},
   "outputs": [],
   "source": []
  }
 ],
 "metadata": {
  "kernelspec": {
   "display_name": "Python 3",
   "language": "python",
   "name": "python3"
  },
  "language_info": {
   "codemirror_mode": {
    "name": "ipython",
    "version": 3
   },
   "file_extension": ".py",
   "mimetype": "text/x-python",
   "name": "python",
   "nbconvert_exporter": "python",
   "pygments_lexer": "ipython3",
   "version": "3.8.3"
  }
 },
 "nbformat": 4,
 "nbformat_minor": 4
}
