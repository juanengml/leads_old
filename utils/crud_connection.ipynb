{
 "cells": [
  {
   "cell_type": "code",
   "execution_count": 35,
   "metadata": {},
   "outputs": [],
   "source": [
    "import sqlite3\n",
    "conn = sqlite3.connect(\"Chinook.db\")"
   ]
  },
  {
   "cell_type": "code",
   "execution_count": 48,
   "metadata": {},
   "outputs": [],
   "source": [
    "def is_open(conn):\n",
    "    try:\n",
    "        with conn.connect(\"Chinook.db\") as db:\n",
    "            db.execute(\"SELECT PlaylistId, Name FROM Playlist\")\n",
    "        return True\n",
    "    except db.ProgrammingError as e:\n",
    "        print('Conexão encerrada {}'.format(e))\n",
    "        return False"
   ]
  },
  {
   "cell_type": "code",
   "execution_count": 49,
   "metadata": {},
   "outputs": [
    {
     "ename": "OperationalError",
     "evalue": "no such table: Playlist",
     "output_type": "error",
     "traceback": [
      "\u001b[0;31m---------------------------------------------------------------------------\u001b[0m",
      "\u001b[0;31mOperationalError\u001b[0m                          Traceback (most recent call last)",
      "\u001b[1;32m/home/marcello/git/lumini/leads_old/utils/crud_connection.ipynb Cell 3'\u001b[0m in \u001b[0;36m<module>\u001b[0;34m\u001b[0m\n\u001b[0;32m----> <a href='vscode-notebook-cell:/home/marcello/git/lumini/leads_old/utils/crud_connection.ipynb#ch0000002?line=0'>1</a>\u001b[0m \u001b[39mprint\u001b[39m(is_open(conn))\n",
      "\u001b[1;32m/home/marcello/git/lumini/leads_old/utils/crud_connection.ipynb Cell 2'\u001b[0m in \u001b[0;36mis_open\u001b[0;34m(conn)\u001b[0m\n\u001b[1;32m      <a href='vscode-notebook-cell:/home/marcello/git/lumini/leads_old/utils/crud_connection.ipynb#ch0000003?line=0'>1</a>\u001b[0m \u001b[39mdef\u001b[39;00m \u001b[39mis_open\u001b[39m(conn):\n\u001b[1;32m      <a href='vscode-notebook-cell:/home/marcello/git/lumini/leads_old/utils/crud_connection.ipynb#ch0000003?line=1'>2</a>\u001b[0m     \u001b[39mtry\u001b[39;00m:\n\u001b[0;32m----> <a href='vscode-notebook-cell:/home/marcello/git/lumini/leads_old/utils/crud_connection.ipynb#ch0000003?line=2'>3</a>\u001b[0m         conn\u001b[39m.\u001b[39;49mexecute(\u001b[39m\"\u001b[39;49m\u001b[39mSELECT PlaylistId, Name FROM Playlist\u001b[39;49m\u001b[39m\"\u001b[39;49m)\n\u001b[1;32m      <a href='vscode-notebook-cell:/home/marcello/git/lumini/leads_old/utils/crud_connection.ipynb#ch0000003?line=3'>4</a>\u001b[0m         \u001b[39mreturn\u001b[39;00m \u001b[39mTrue\u001b[39;00m\n\u001b[1;32m      <a href='vscode-notebook-cell:/home/marcello/git/lumini/leads_old/utils/crud_connection.ipynb#ch0000003?line=4'>5</a>\u001b[0m     \u001b[39mexcept\u001b[39;00m db\u001b[39m.\u001b[39mProgrammingError \u001b[39mas\u001b[39;00m e:\n",
      "\u001b[0;31mOperationalError\u001b[0m: no such table: Playlist"
     ]
    }
   ],
   "source": [
    "print(is_open(conn))"
   ]
  },
  {
   "cell_type": "code",
   "execution_count": null,
   "metadata": {},
   "outputs": [],
   "source": []
  }
 ],
 "metadata": {
  "interpreter": {
   "hash": "b3f2dfc7c3e54d95230d88b356e1570f48e5525bda853b5939abb889d6068659"
  },
  "kernelspec": {
   "display_name": "Python 3.9.7 ('git-gt00I3fY')",
   "language": "python",
   "name": "python3"
  },
  "language_info": {
   "codemirror_mode": {
    "name": "ipython",
    "version": 3
   },
   "file_extension": ".py",
   "mimetype": "text/x-python",
   "name": "python",
   "nbconvert_exporter": "python",
   "pygments_lexer": "ipython3",
   "version": "3.9.7"
  },
  "orig_nbformat": 4
 },
 "nbformat": 4,
 "nbformat_minor": 2
}
