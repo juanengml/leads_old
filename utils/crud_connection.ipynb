{
 "cells": [
  {
   "cell_type": "code",
   "execution_count": 3,
   "metadata": {},
   "outputs": [],
   "source": [
    "import sqlite3\n",
    "import pandas as pd\n",
    "import numpy as np\n",
    "from utils import do_select\n",
    "db_file = '/home/marcello/git/lumini/leads_old/database/chinook.db'\n",
    "sqlite3.connect(db_file).close()"
   ]
  },
  {
   "cell_type": "code",
   "execution_count": null,
   "metadata": {},
   "outputs": [],
   "source": [
    "def df_to_sqlite(df: pd.DataFrame, db_file, tbName):\n",
    "    conn = sqlite3.connect(db_file)\n",
    "    return df.to_sql(tbName, conn, if_exists='append', index=False)"
   ]
  },
  {
   "cell_type": "code",
   "execution_count": 110,
   "metadata": {},
   "outputs": [],
   "source": [
    "def do_select(db_file, sql, table_name):\n",
    "    try:\n",
    "        with sqlite3.connect(db_file) as conn:\n",
    "            cursor = conn.cursor()\n",
    "            table_column_names = 'PRAGMA table_info(' + table_name + ');'\n",
    "            cursor.execute(table_column_names)\n",
    "            columns = cursor.fetchall()\n",
    "            \n",
    "            column_names = list()\n",
    "            for name in columns:\n",
    "                column_names.append(name[1])\n",
    "            df = pd.DataFrame(column_names)\n",
    "            \n",
    "            cursor.execute(sql)\n",
    "            rows = cursor.fetchall()\n",
    "            \n",
    "            print(column_names)\n",
    "            for i, row in enumerate(rows):\n",
    "                key_value = dict(zip(column_names, row))\n",
    "                series = pd.Series(key_value)\n",
    "                df.append(series)\n",
    "        conn.close()\n",
    "        return df\n",
    "        \n",
    "    except:\n",
    "        conn.close()\n",
    "        return False\n"
   ]
  },
  {
   "cell_type": "code",
   "execution_count": 112,
   "metadata": {},
   "outputs": [
    {
     "name": "stdout",
     "output_type": "stream",
     "text": [
      "['TrackId', 'Name', 'AlbumId', 'MediaTypeId', 'GenreId', 'Composer', 'Milliseconds', 'Bytes', 'UnitPrice']\n",
      "<class 'tuple'>\n",
      "[1, 'For Those About To Rock (We Salute You)', 1, 1, 1, 'Angus Young, Malcolm Young, Brian Johnson', 343719, 11170334, 0.99]\n"
     ]
    },
    {
     "data": {
      "text/plain": [
       "False"
      ]
     },
     "execution_count": 112,
     "metadata": {},
     "output_type": "execute_result"
    }
   ],
   "source": [
    "sql = \"\"\"\n",
    "    SELECT * FROM tracks LIMIT 10\n",
    "\"\"\"\n",
    "# do_select(db_file, sql, 'tracks')\n",
    "df_ = do_select(db_file, sql, 'tracks')\n",
    "df_"
   ]
  },
  {
   "cell_type": "code",
   "execution_count": 18,
   "metadata": {},
   "outputs": [
    {
     "data": {
      "text/plain": [
       "bool"
      ]
     },
     "execution_count": 18,
     "metadata": {},
     "output_type": "execute_result"
    }
   ],
   "source": [
    "type(df_)"
   ]
  },
  {
   "cell_type": "code",
   "execution_count": 4,
   "metadata": {},
   "outputs": [],
   "source": [
    "def do_ddl(db_file, sql_ddl):\n",
    "    try:\n",
    "        with sqlite3.connect(db_file) as conn:\n",
    "            cursor = conn.cursor()\n",
    "            cursor.execute(sql_ddl)\n",
    "            conn.commit()\n",
    "        conn.close()\n",
    "        return True\n",
    "    except:\n",
    "        conn.close()\n",
    "        return False"
   ]
  },
  {
   "cell_type": "code",
   "execution_count": 5,
   "metadata": {},
   "outputs": [
    {
     "data": {
      "text/plain": [
       "True"
      ]
     },
     "execution_count": 5,
     "metadata": {},
     "output_type": "execute_result"
    }
   ],
   "source": [
    "ddl = \"\"\"\n",
    "    CREATE TABLE IF NOT EXISTS TESTE ( \n",
    "        COL_KEY INTEGER PRIMARY KEY AUTOINCREMENT, \n",
    "        COL_NAME TEXT NOT NULL\n",
    "    ); \"\"\"\n",
    "\n",
    "do_ddl(db_file, ddl)"
   ]
  },
  {
   "cell_type": "code",
   "execution_count": 6,
   "metadata": {},
   "outputs": [
    {
     "name": "stdout",
     "output_type": "stream",
     "text": [
      "('albums',)\n",
      "('artists',)\n",
      "('customers',)\n",
      "('employees',)\n",
      "('genres',)\n",
      "('invoices',)\n",
      "('invoice_items',)\n",
      "('media_types',)\n",
      "('playlists',)\n",
      "('playlist_track',)\n",
      "('tracks',)\n",
      "('TESTE',)\n"
     ]
    },
    {
     "data": {
      "text/plain": [
       "True"
      ]
     },
     "execution_count": 6,
     "metadata": {},
     "output_type": "execute_result"
    }
   ],
   "source": [
    "sql = \"\"\"\n",
    "    SELECT \n",
    "        name\n",
    "    FROM \n",
    "        sqlite_schema\n",
    "    WHERE \n",
    "        type ='table' AND \n",
    "        name NOT LIKE 'sqlite_%';\n",
    "\"\"\"\n",
    "do_select(db_file, sql)"
   ]
  },
  {
   "cell_type": "code",
   "execution_count": 7,
   "metadata": {},
   "outputs": [],
   "source": [
    "def do_insert(db_file, sql):\n",
    "    try:\n",
    "        with sqlite3.connect(db_file) as conn:\n",
    "            cursor = conn.cursor()\n",
    "            cursor.execute(sql)\n",
    "            conn.commit()\n",
    "        conn.close()\n",
    "        return True\n",
    "    except:\n",
    "        conn.close()\n",
    "        return False"
   ]
  },
  {
   "cell_type": "code",
   "execution_count": 8,
   "metadata": {},
   "outputs": [
    {
     "data": {
      "text/plain": [
       "True"
      ]
     },
     "execution_count": 8,
     "metadata": {},
     "output_type": "execute_result"
    }
   ],
   "source": [
    "sql = \"\"\"\n",
    "    INSERT INTO playlists (Name) VALUES('teste audio 2');\n",
    "\"\"\"\n",
    "do_insert(db_file, sql)"
   ]
  },
  {
   "cell_type": "code",
   "execution_count": 9,
   "metadata": {},
   "outputs": [
    {
     "name": "stdout",
     "output_type": "stream",
     "text": [
      "(4, 'Audiobooks')\n",
      "(6, 'Audiobooks')\n",
      "(29, 'teste audio 1')\n",
      "(30, 'teste audio 2')\n",
      "(31, 'teste audio 2')\n"
     ]
    },
    {
     "data": {
      "text/plain": [
       "True"
      ]
     },
     "execution_count": 9,
     "metadata": {},
     "output_type": "execute_result"
    }
   ],
   "source": [
    "sql = \"\"\"\n",
    "    SELECT * FROM playlists WHERE name like '%audio%' \n",
    "\"\"\"\n",
    "do_select(db_file, sql)"
   ]
  },
  {
   "cell_type": "code",
   "execution_count": 10,
   "metadata": {},
   "outputs": [],
   "source": [
    "def do_update(db_file, sql):\n",
    "    try:\n",
    "        with sqlite3.connect(db_file) as conn:\n",
    "            cursor = conn.cursor()\n",
    "            cursor.execute(sql)\n",
    "            conn.commit()\n",
    "        conn.close()\n",
    "        return True\n",
    "    except:\n",
    "        return False"
   ]
  },
  {
   "cell_type": "code",
   "execution_count": 11,
   "metadata": {},
   "outputs": [
    {
     "data": {
      "text/plain": [
       "True"
      ]
     },
     "execution_count": 11,
     "metadata": {},
     "output_type": "execute_result"
    }
   ],
   "source": [
    "sql = \"\"\"\n",
    "    UPDATE playlists\n",
    "    SET name = 'teste audio 0'\n",
    "    WHERE NAME = 'teste audio 1'\n",
    "\"\"\"\n",
    "do_update(db_file, sql)"
   ]
  },
  {
   "cell_type": "code",
   "execution_count": 12,
   "metadata": {},
   "outputs": [
    {
     "name": "stdout",
     "output_type": "stream",
     "text": [
      "(29, 'teste audio 0')\n",
      "(30, 'teste audio 2')\n",
      "(31, 'teste audio 2')\n"
     ]
    },
    {
     "data": {
      "text/plain": [
       "True"
      ]
     },
     "execution_count": 12,
     "metadata": {},
     "output_type": "execute_result"
    }
   ],
   "source": [
    "sql = \"\"\"\n",
    "    SELECT * FROM playlists WHERE name like '%teste%' \n",
    "\"\"\"\n",
    "do_select(db_file, sql)"
   ]
  },
  {
   "cell_type": "code",
   "execution_count": 13,
   "metadata": {},
   "outputs": [],
   "source": [
    "def do_delete(db_file, sql):\n",
    "    try:\n",
    "        with sqlite3.connect(db_file) as conn:\n",
    "            cursor = conn.cursor()\n",
    "            cursor.execute(sql)\n",
    "            conn.commit()\n",
    "        conn.close()\n",
    "        return True\n",
    "    except:\n",
    "        return False"
   ]
  },
  {
   "cell_type": "code",
   "execution_count": 14,
   "metadata": {},
   "outputs": [
    {
     "data": {
      "text/plain": [
       "True"
      ]
     },
     "execution_count": 14,
     "metadata": {},
     "output_type": "execute_result"
    }
   ],
   "source": [
    "sql = \"\"\"\n",
    "    DELETE FROM playlists\n",
    "    WHERE name = 'teste audio 2'\n",
    "\"\"\"\n",
    "do_delete(db_file, sql)"
   ]
  },
  {
   "cell_type": "code",
   "execution_count": 15,
   "metadata": {},
   "outputs": [
    {
     "name": "stdout",
     "output_type": "stream",
     "text": [
      "(29, 'teste audio 0')\n"
     ]
    },
    {
     "data": {
      "text/plain": [
       "True"
      ]
     },
     "execution_count": 15,
     "metadata": {},
     "output_type": "execute_result"
    }
   ],
   "source": [
    "sql = \"\"\"\n",
    "    SELECT * FROM playlists WHERE name like '%teste%' \n",
    "\"\"\"\n",
    "do_select(db_file, sql)"
   ]
  },
  {
   "cell_type": "code",
   "execution_count": null,
   "metadata": {},
   "outputs": [],
   "source": []
  }
 ],
 "metadata": {
  "interpreter": {
   "hash": "b3f2dfc7c3e54d95230d88b356e1570f48e5525bda853b5939abb889d6068659"
  },
  "kernelspec": {
   "display_name": "Python 3.9.7 ('git-gt00I3fY')",
   "language": "python",
   "name": "python3"
  },
  "language_info": {
   "codemirror_mode": {
    "name": "ipython",
    "version": 3
   },
   "file_extension": ".py",
   "mimetype": "text/x-python",
   "name": "python",
   "nbconvert_exporter": "python",
   "pygments_lexer": "ipython3",
   "version": "3.9.7"
  },
  "orig_nbformat": 4
 },
 "nbformat": 4,
 "nbformat_minor": 2
}
