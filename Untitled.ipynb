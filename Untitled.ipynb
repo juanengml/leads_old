{
 "cells": [
  {
   "cell_type": "code",
   "execution_count": 1,
   "metadata": {},
   "outputs": [],
   "source": [
    "import requests\n",
    "import json\n",
    "import pandas as pd\n",
    "import config\n",
    "from datetime import datetime\n",
    "import numpy as np\n",
    "import config\n",
    "import joblib\n",
    "import aux_function\n",
    "import random\n",
    "#FILES-----------------------------\n",
    "from artefatos import capacity_corretor, profissao_lista_representativa\n",
    "from artefatos import MIDIA_VEICULO_lista_representativa, Listas, xgboost_loaded_model\n",
    "from artefatos import lista_novas_origens, ddd, idhm, matriz, corretores\n",
    "from artefatos import categoria_treino, base_fair_motor, enviados_count_corretor_redistribuicao\n",
    "from time import gmtime, strftime"
   ]
  },
  {
   "cell_type": "code",
   "execution_count": 2,
   "metadata": {},
   "outputs": [
    {
     "data": {
      "text/plain": [
       "'1-31-2022--10-24-9'"
      ]
     },
     "execution_count": 2,
     "metadata": {},
     "output_type": "execute_result"
    }
   ],
   "source": [
    "today = str(datetime.today())[:10]\n",
    "ano = datetime.today().year\n",
    "\n",
    "mes = datetime.today().month\n",
    "\n",
    "dia = datetime.today().day\n",
    "\n",
    "hora = datetime.today().hour\n",
    "\n",
    "minut = datetime.today().minute\n",
    "\n",
    "seg = datetime.today().second\n",
    "\n",
    "data_recebido = f'{str(mes)}-{str(dia)}-{str(ano)}--{str(hora)}-{str(minut)}-{str(seg)}'\n",
    "data_recebido"
   ]
  },
  {
   "cell_type": "code",
   "execution_count": 17,
   "metadata": {},
   "outputs": [],
   "source": [
    "def corr_ativos():\n",
    "    '''\n",
    "    Lista os corretores do canal interno ativos e disponíveis\n",
    "\n",
    "    Parameters\n",
    "    ----------\n",
    "    corretores_interno : DataFrame (Colunas requeridas: 'CPF')\n",
    "        Informações dos corretores do canal interno\n",
    "\n",
    "    Returns\n",
    "    -------\n",
    "    corretores_ativos : DataFrame (coluna de cpfs)\n",
    "        Retorna os cpfs dos corretores ativos.\n",
    "    corr_interno : list\n",
    "        Retorna os cpfs dos corretores do canal interno\n",
    "    corretores_disponiveis : DataFrame\n",
    "        Retorna os corretores do canal interno ativos (disponíveis)\n",
    "\n",
    "    '''\n",
    "    response = requests.request(\"POST\", config.URL_CORRETOR, headers=config.HEADERS, data={})\n",
    "\n",
    "    dados_corretores_ativos = json.loads(response.content)\n",
    "\n",
    "    corretores_ativos = pd.DataFrame(dados_corretores_ativos)\n",
    "    corretores_ativos.to_csv('corretores_ativos.csv', index=False)\n",
    "    corretores_ativos = corretores_ativos.drop_duplicates(subset=\"cpf\")\n",
    "    \n",
    "    corretores_ativos['capacity_restante'] = corretores_ativos['quantidadeLeads'] - corretores_ativos['leadsDistribuidos']\n",
    "    corretores_ativos['capacity_restante_redistribuicao'] = corretores_ativos['quantidadeRedistribuicao'] - corretores_ativos['leadsRedistribuido'] \n",
    "\n",
    "    #--------------- CORRETORES INTERNOS E ATIVOS ------------------------------------------------------------------------------\n",
    "    corretores_interno = corretores_ativos[corretores_ativos.canal=='INTERNO']\n",
    "    #remove corretores que preencheram o capacity ou que ultrapassaram o limite de redistribuição\n",
    "    corretores_interno = corretores_interno[corretores_interno.capacity_restante>0]\n",
    "    corretores_interno = corretores_interno[corretores_interno.capacity_restante_redistribuicao>0]\n",
    "\n",
    "    \n",
    "    corretores_interno[\"CPF\"] = pd.to_numeric(corretores_interno[\"cpf\"], errors='coerce')\n",
    "\n",
    "    corr_interno = list(corretores_interno.CPF.unique())\n",
    "\n",
    "    corretores_disponiveis = corretores_ativos[corretores_ativos[\"cpf\"].isin(corr_interno)]\n",
    "    \n",
    "    ## verifica se o corretor é de SP lista da jessica---------------------------------------------\n",
    "    corretore_canal_interno = pd.read_excel('historico_bi/consultores_canal_interno.xlsx')\n",
    "    corretore_canal_interno=list(corretore_canal_interno.CPF.unique())\n",
    "    corretores_disponiveis = corretores_disponiveis[corretores_disponiveis[\"cpf\"].isin(corretore_canal_interno)]\n",
    "    print('corretores_disponiveis')\n",
    "    corr_interno = corretore_canal_interno\n",
    "    print('corr_interno')\n",
    "    corretores_ativos = corretores_ativos[corretores_ativos[\"cpf\"].isin(corretore_canal_interno)]\n",
    "    print('corretores_ativos')\n",
    "    ###---------------------------------------------------------------------------------\n",
    "    \n",
    "    corretores_disponiveis.to_csv(config.path_2+'/'+data_recebido+'corretores_disponível_ativo.csv')\n",
    "    \n",
    "    return corretores_ativos, corr_interno, corretores_disponiveis\n",
    "\n"
   ]
  },
  {
   "cell_type": "code",
   "execution_count": 94,
   "metadata": {},
   "outputs": [],
   "source": [
    " response = requests.request(\"POST\", config.URL_PLANTAO, headers=config.HEADERS, data={})"
   ]
  },
  {
   "cell_type": "code",
   "execution_count": 95,
   "metadata": {},
   "outputs": [
    {
     "data": {
      "text/plain": [
       "<Response [502]>"
      ]
     },
     "execution_count": 95,
     "metadata": {},
     "output_type": "execute_result"
    }
   ],
   "source": [
    " response\n"
   ]
  },
  {
   "cell_type": "code",
   "execution_count": 18,
   "metadata": {},
   "outputs": [
    {
     "name": "stdout",
     "output_type": "stream",
     "text": [
      "corretores_disponiveis\n",
      "corr_interno\n",
      "corretores_ativos\n"
     ]
    }
   ],
   "source": [
    "corretores_ativos, corr_interno, corretores_disponiveis = corr_ativos()"
   ]
  },
  {
   "cell_type": "code",
   "execution_count": 16,
   "metadata": {},
   "outputs": [
    {
     "data": {
      "text/plain": [
       "[50288034805,\n",
       " 29531565856,\n",
       " 40865083894,\n",
       " 27386152876,\n",
       " 28110991823,\n",
       " 37288408825,\n",
       " 15549985810,\n",
       " 39842853888,\n",
       " 13867294690,\n",
       " 36265028804,\n",
       " 44957861803,\n",
       " 39491319817,\n",
       " 19606611833,\n",
       " 45382583854,\n",
       " 38264807836,\n",
       " 10296747874,\n",
       " 45679636875,\n",
       " 22185293869,\n",
       " 30595349854,\n",
       " 27706632830,\n",
       " 25982015822,\n",
       " 6424819975,\n",
       " 22889798879,\n",
       " 25884747802,\n",
       " 22287640860,\n",
       " 21483629848,\n",
       " 46594536850,\n",
       " 44245027835,\n",
       " 31861140800,\n",
       " 47351014892,\n",
       " 4094954848,\n",
       " 48149657886,\n",
       " 29422082870,\n",
       " 37533528883,\n",
       " 28590575870,\n",
       " 6355083464,\n",
       " 25159375864,\n",
       " 32058508823,\n",
       " 47572119883,\n",
       " '31672189837\\xa0',\n",
       " 30684148811,\n",
       " 41131425804,\n",
       " 32259003893,\n",
       " 36995640888,\n",
       " 27290122810,\n",
       " 1236835808,\n",
       " 33333456842,\n",
       " 30396398898,\n",
       " 10158135857,\n",
       " 11636167888,\n",
       " 90441460410,\n",
       " 27507691837,\n",
       " 37873727840,\n",
       " 31332143814,\n",
       " 92870902387,\n",
       " 14316702866,\n",
       " 10564932833,\n",
       " 34618734892,\n",
       " 27751946806,\n",
       " 32251396888,\n",
       " 17632843876,\n",
       " 32057508889,\n",
       " 17325970811,\n",
       " 36035347860,\n",
       " 27799159863,\n",
       " 26339479804,\n",
       " 22813855820,\n",
       " 49313211866,\n",
       " 22056782804,\n",
       " 25702826850,\n",
       " 42807268846,\n",
       " 34630160876,\n",
       " 40303350806,\n",
       " 42429470896,\n",
       " 15118697808,\n",
       " 31476480877,\n",
       " 45696598889,\n",
       " 46332382805,\n",
       " 48565614808,\n",
       " 48791176840,\n",
       " 33488138836,\n",
       " 5146626111,\n",
       " 40343343800,\n",
       " nan,\n",
       " 32974465870,\n",
       " 48977095808,\n",
       " 35470669807,\n",
       " 49055677850,\n",
       " 48491512802,\n",
       " 22815594838,\n",
       " 17581057801,\n",
       " 7751849509,\n",
       " 6147056492,\n",
       " 41929309864,\n",
       " 48098858871,\n",
       " '393.867.738-48',\n",
       " 52318826234,\n",
       " 3535972442,\n",
       " 44588053809,\n",
       " 14042912885,\n",
       " 22612825835,\n",
       " 38397136843,\n",
       " 8809548841,\n",
       " 22537354850,\n",
       " 30157664813,\n",
       " 11086595866,\n",
       " 31986146863,\n",
       " 6086991871,\n",
       " 12570146846,\n",
       " 30234432896,\n",
       " 15181511830,\n",
       " 27733468825,\n",
       " 30766313816,\n",
       " 10543815420,\n",
       " 29284670845,\n",
       " 39097505836,\n",
       " 26693331840,\n",
       " 45544267855,\n",
       " 26333558893,\n",
       " 25933090832,\n",
       " 6960776805,\n",
       " 30015150828,\n",
       " 4486247965,\n",
       " 36714115890,\n",
       " 26717684860,\n",
       " 27142585811,\n",
       " 46077023825,\n",
       " 42373851830,\n",
       " 28700737801,\n",
       " 42309982873,\n",
       " 28561994886,\n",
       " 48674020879,\n",
       " 43079461894,\n",
       " 606543090,\n",
       " 41252354819,\n",
       " 34224352800,\n",
       " 39231946846,\n",
       " 32978791810,\n",
       " 36147604805,\n",
       " 33321606801,\n",
       " 31358825866,\n",
       " 23859470809,\n",
       " 36333451835,\n",
       " 32328566839,\n",
       " 27412791877,\n",
       " 44400581837,\n",
       " 16040393882,\n",
       " '\\xa041374624888',\n",
       " 30917991826,\n",
       " 35389732880,\n",
       " 27899858801,\n",
       " 30129403830,\n",
       " 42011365821,\n",
       " 37446687894,\n",
       " 32100074890,\n",
       " 9017551844,\n",
       " 8838892857,\n",
       " 43972208839,\n",
       " 31226083838,\n",
       " 30013902806,\n",
       " 24998177800,\n",
       " 22905300850,\n",
       " 11729703607,\n",
       " 2348362880,\n",
       " 25378680808,\n",
       " 43300814820,\n",
       " 38885257801,\n",
       " 32481490860,\n",
       " 40496640895,\n",
       " 39037858813,\n",
       " 26913109814,\n",
       " 40731741854,\n",
       " 9922256800,\n",
       " 11807788806,\n",
       " 47817206848,\n",
       " 31923497863,\n",
       " 80786065834,\n",
       " 36806925871,\n",
       " 47924081801,\n",
       " 21333134860,\n",
       " 5091021825,\n",
       " 17087895885,\n",
       " 30132308860,\n",
       " 34428201893,\n",
       " 33176385838,\n",
       " 32836555882,\n",
       " 43327530890,\n",
       " 32242690817,\n",
       " 32752147805,\n",
       " 43503207848,\n",
       " 32494370850,\n",
       " 20542776812,\n",
       " 45338069881,\n",
       " 40386424888,\n",
       " 17639747821,\n",
       " 40672249820,\n",
       " 46762229808,\n",
       " 11853179884,\n",
       " 23280041805,\n",
       " 43815708800,\n",
       " 39743000828,\n",
       " 40683355830,\n",
       " 31631484842,\n",
       " 3203561670,\n",
       " 33958254500,\n",
       " 4740709481,\n",
       " 31040348858,\n",
       " 45461696805,\n",
       " 39680074846,\n",
       " 34063917886,\n",
       " 36552700890,\n",
       " 12815302802,\n",
       " 21271947803,\n",
       " 34343188876,\n",
       " 35926191874,\n",
       " 38251921805,\n",
       " 38444090840,\n",
       " 16348175839,\n",
       " 38180726800,\n",
       " 17007428843,\n",
       " 21965841856,\n",
       " 26864125858,\n",
       " 29293075873,\n",
       " 64676340559,\n",
       " 36577608814,\n",
       " 24861550823,\n",
       " 39860818878,\n",
       " 38818334808,\n",
       " 18472232816,\n",
       " 33941500856,\n",
       " 48821156893,\n",
       " 30530999854,\n",
       " 37555653826,\n",
       " 45038977804,\n",
       " 2352734142,\n",
       " 21369159838,\n",
       " 41591156831,\n",
       " 41095061828,\n",
       " 21604402806,\n",
       " 11407261886,\n",
       " 27704570803,\n",
       " 43055335880,\n",
       " 19268844850,\n",
       " 21929126840,\n",
       " 30510204864,\n",
       " 33975961813,\n",
       " 6486615800,\n",
       " 71247114600,\n",
       " 49847324824,\n",
       " 56873212504,\n",
       " 33126718841,\n",
       " 26054473832,\n",
       " 41671002822,\n",
       " 31066634807,\n",
       " 40969985835,\n",
       " 31433204860,\n",
       " 22562061810,\n",
       " 21639966897,\n",
       " 37443304862,\n",
       " 14711470883,\n",
       " 36892757847,\n",
       " 22938607873,\n",
       " 35781132805,\n",
       " 14851315880,\n",
       " 39401224838,\n",
       " 45307659890,\n",
       " '41552899896\\xa0',\n",
       " 19184661810,\n",
       " 42030760803,\n",
       " 33308524880,\n",
       " 40312207824,\n",
       " 42462361871,\n",
       " 32380783802]"
      ]
     },
     "execution_count": 16,
     "metadata": {},
     "output_type": "execute_result"
    }
   ],
   "source": [
    "corretore_canal_interno "
   ]
  },
  {
   "cell_type": "code",
   "execution_count": 89,
   "metadata": {},
   "outputs": [],
   "source": [
    "def filtro_plantao():\n",
    "    today = str(datetime.today())[:10]\n",
    "    Body = {'DataHoraInicio':today+' 00:00:00', 'DataHoraFim':today+' 23:59:59'}\n",
    "    response = requests.request('POST', config.URL_PLANTAO, headers=config.HEADERS, data=Body)\n",
    "    j_1 = json.loads(response.content)\n",
    "    timestamp = datetime.timestamp(datetime.now())\n",
    "    j_1x = [x for x in j_1 if x['DataHoraFim']>=timestamp]\n",
    "    j_2 = [i['Corretores'] for i in j_1x if i['status']=='Em andamento']\n",
    "    corretores=[]\n",
    "    for i in j_2:\n",
    "        for j in i:\n",
    "            corretores.append(j)\n",
    "    corretor_plantao = [float(i['cpf']) for i in corretores if (i['canal']=='INTERNO' and i['pausado']==False)]\n",
    "    log_corretor_plantao = pd.DataFrame({'cpf': [i['cpf'] for i in corretores if i['pausado']==False], 'canal':[i['canal'] for i in corretores if i['pausado']==False]})\n",
    "    #l = [i for i in corretores if i['cpf']==10543815420]\n",
    "    #corretores_dup = log_corretor_plantao.loc[log_corretor_plantao.cpf.duplicated(),:]\n",
    "    log_corretor_plantao['Filtro'] =  log_corretor_plantao.cpf.apply(lambda x: True if x in corretor_plantao else False)\n",
    "\n",
    "    l1 = [i['leadsDistribuidos'] for i in corretores if (i['canal']=='INTERNO' and i['pausado']==False)]\n",
    "    r1 = [i['leadsRedistribuido'] for i in corretores if (i['canal']=='INTERNO' and i['pausado']==False)]\n",
    "    l2 = [i['quantidadeLeads'] for i in corretores if (i['canal']=='INTERNO' and i['pausado']==False)]\n",
    "    r2 = [i['quantidadeRedistribuicao'] for i in corretores if (i['canal']=='INTERNO' and i['pausado']==False)]\n",
    "    uf_corretor = [i['uf'] for i in corretores if (i['canal']=='INTERNO' and i['pausado']==False)]\n",
    "    \n",
    "    corretor_plantao_df = pd.DataFrame({'corretor_plantao':corretor_plantao, 'leadsDistribuidos':l1, 'leadsRedistribuido':r1,\n",
    "                  'quantidadeLeads':l2, 'quantidadeRedistribuicao':r2,'uf_corretor':uf_corretor})\n",
    "    corretor_plantao_df['capacity_restante'] = corretor_plantao_df['quantidadeLeads'] - corretor_plantao_df['leadsDistribuidos']\n",
    "    corretor_plantao_df['capacity_restante_redistribuicao'] = corretor_plantao_df['quantidadeRedistribuicao'] - corretor_plantao_df['leadsRedistribuido']\n",
    "    corretor_plantao_df = corretor_plantao_df[corretor_plantao_df.capacity_restante>0]\n",
    "    corretor_plantao_df = corretor_plantao_df[corretor_plantao_df.capacity_restante_redistribuicao>0]\n",
    "    log_corretor_plantao = pd.merge(log_corretor_plantao, corretor_plantao_df[['corretor_plantao', 'capacity_restante']], left_on='cpf', right_on='corretor_plantao', how='left')\n",
    "    log_corretor_plantao = log_corretor_plantao.drop('corretor_plantao', axis=1)\n",
    "    \n",
    "    corretore_canal_interno = pd.read_excel('historico_bi/consultores_canal_interno.xlsx')\n",
    "    corretore_canal_interno=list(corretore_canal_interno.CPF.unique())\n",
    "    corretor_plantao_df = corretor_plantao_df[corretor_plantao_df[\"corretor_plantao\"].isin(corretore_canal_interno)]\n",
    "    \n",
    "    log_corretor_plantao.to_csv(config.path_2+'/'+data_recebido+'_log_corretor_plantao.csv')\n",
    "    return list(corretor_plantao_df['corretor_plantao'])\n"
   ]
  },
  {
   "cell_type": "code",
   "execution_count": 92,
   "metadata": {},
   "outputs": [],
   "source": [
    "corretores = filtro_plantao()"
   ]
  },
  {
   "cell_type": "code",
   "execution_count": 93,
   "metadata": {},
   "outputs": [
    {
     "data": {
      "text/plain": [
       "40"
      ]
     },
     "execution_count": 93,
     "metadata": {},
     "output_type": "execute_result"
    }
   ],
   "source": [
    "len(corretores)"
   ]
  },
  {
   "cell_type": "code",
   "execution_count": 78,
   "metadata": {},
   "outputs": [
    {
     "data": {
      "text/plain": [
       "[16348175839.0,\n",
       " 41591156831.0,\n",
       " 2352734142.0,\n",
       " 13867294690.0,\n",
       " 44957861803.0,\n",
       " 19606611833.0,\n",
       " 46594536850.0,\n",
       " 45382583854.0,\n",
       " 10296747874.0,\n",
       " 22287640860.0,\n",
       " 28110991823.0,\n",
       " 39491319817.0,\n",
       " 27706632830.0,\n",
       " 22185293869.0,\n",
       " 25982015822.0,\n",
       " 39491319817.0,\n",
       " 28110991823.0,\n",
       " 30234432896.0,\n",
       " 39680074846.0,\n",
       " 21271947803.0,\n",
       " 4740709481.0,\n",
       " 33958254500.0,\n",
       " 23280041805.0,\n",
       " 34343188876.0,\n",
       " 3203561670.0,\n",
       " 40672249820.0,\n",
       " 35926191874.0,\n",
       " 45461696805.0,\n",
       " 39743000828.0,\n",
       " 12815302802.0,\n",
       " 38251921805.0,\n",
       " 31040348858.0,\n",
       " 6486615800.0,\n",
       " 38818334808.0]"
      ]
     },
     "execution_count": 78,
     "metadata": {},
     "output_type": "execute_result"
    }
   ],
   "source": [
    "corretores\n"
   ]
  },
  {
   "cell_type": "code",
   "execution_count": 56,
   "metadata": {},
   "outputs": [],
   "source": [
    "corretoresx=list(np.array(corretores).astype(int))"
   ]
  },
  {
   "cell_type": "code",
   "execution_count": 60,
   "metadata": {},
   "outputs": [
    {
     "data": {
      "text/plain": [
       "[41591156831.0,\n",
       " 2352734142.0,\n",
       " 2881305024.0,\n",
       " 2911517016.0,\n",
       " 3040389467.0,\n",
       " 1689213086.0,\n",
       " 77360087015.0,\n",
       " 76467619072.0,\n",
       " 41519558015.0,\n",
       " 90019954034.0,\n",
       " 44826567049.0,\n",
       " 1091494088.0,\n",
       " 2881305024.0,\n",
       " 3040389467.0,\n",
       " 2911517016.0,\n",
       " 1689213086.0,\n",
       " 77360087015.0,\n",
       " 76467619072.0,\n",
       " 1091494088.0,\n",
       " 41519558015.0,\n",
       " 90019954034.0,\n",
       " 44826567049.0]"
      ]
     },
     "execution_count": 60,
     "metadata": {},
     "output_type": "execute_result"
    }
   ],
   "source": [
    "corretores"
   ]
  },
  {
   "cell_type": "code",
   "execution_count": 58,
   "metadata": {},
   "outputs": [
    {
     "data": {
      "text/plain": [
       "numpy.int32"
      ]
     },
     "execution_count": 58,
     "metadata": {},
     "output_type": "execute_result"
    }
   ],
   "source": [
    "type(corretoresx[1])"
   ]
  },
  {
   "cell_type": "code",
   "execution_count": 23,
   "metadata": {},
   "outputs": [],
   "source": [
    "corretore_canal_interno = pd.read_excel('historico_bi/consultores_canal_interno.xlsx')\n",
    "corretore_canal_interno=list(corretore_canal_interno.CPF.unique())"
   ]
  },
  {
   "cell_type": "code",
   "execution_count": 36,
   "metadata": {},
   "outputs": [
    {
     "data": {
      "text/plain": [
       "273"
      ]
     },
     "execution_count": 36,
     "metadata": {},
     "output_type": "execute_result"
    }
   ],
   "source": [
    "len(corretore_canal_interno)"
   ]
  },
  {
   "cell_type": "code",
   "execution_count": 39,
   "metadata": {},
   "outputs": [
    {
     "data": {
      "text/plain": [
       "int"
      ]
     },
     "execution_count": 39,
     "metadata": {},
     "output_type": "execute_result"
    }
   ],
   "source": [
    "type(corretore_canal_interno[1])"
   ]
  },
  {
   "cell_type": "code",
   "execution_count": 28,
   "metadata": {},
   "outputs": [],
   "source": [
    "test_lista =list(set(corretore_canal_interno) - set(corretoresx))"
   ]
  },
  {
   "cell_type": "code",
   "execution_count": 59,
   "metadata": {},
   "outputs": [
    {
     "name": "stdout",
     "output_type": "stream",
     "text": [
      "Common Elements set()\n"
     ]
    }
   ],
   "source": [
    "print(\"Common Elements\", set(corretore_canal_interno) & set(corretoresx))"
   ]
  },
  {
   "cell_type": "code",
   "execution_count": null,
   "metadata": {},
   "outputs": [],
   "source": [
    "df= pd.DataFrame(corretores)\n",
    "df"
   ]
  },
  {
   "cell_type": "code",
   "execution_count": null,
   "metadata": {},
   "outputs": [],
   "source": [
    "from time import gmtime, strftime\n",
    "\n",
    "strftime(\"%Y-%m-%d %H:%M:%S\", gmtime())"
   ]
  },
  {
   "cell_type": "code",
   "execution_count": null,
   "metadata": {},
   "outputs": [],
   "source": [
    "URL_PLANTAO = 'http://hmwinap03:8082/focus-leads-integration/buscar-plantao-lumini'\n",
    "\n",
    "API_KEY_HEAD = 'X-Gravitee-Api-Key'\n",
    "API_KEY = 'da716f45-d4b0-42b1-acb5-50822e8b4870'\n",
    "HEADERS = {API_KEY_HEAD:API_KEY}\n",
    "today = str(datetime.today())[:10]\n",
    "Body = {'DataHoraInicio':today+' 00:00:00', 'DataHoraFim':strftime(\"%Y-%m-%d %H:%M:%S\", gmtime())}"
   ]
  },
  {
   "cell_type": "code",
   "execution_count": null,
   "metadata": {},
   "outputs": [],
   "source": [
    "Body"
   ]
  },
  {
   "cell_type": "code",
   "execution_count": null,
   "metadata": {},
   "outputs": [],
   "source": []
  },
  {
   "cell_type": "code",
   "execution_count": null,
   "metadata": {},
   "outputs": [],
   "source": [
    "def filtro_plantao():\n",
    "    today = str(datetime.today())[:10]\n",
    "    Body = {'DataHoraInicio':today+' 00:00:00', 'DataHoraFim':strftime(\"%Y-%m-%d %H:%M:%S\", gmtime())}\n",
    "    response = requests.request('POST', config.URL_PLANTAO, headers=config.HEADERS, data=Body)\n",
    "    j_1 = json.loads(response.content)\n",
    "    timestamp = datetime.timestamp(datetime.now())\n",
    "    j_1x = [x for x in j_1 if x['DataHoraFim']>=timestamp]\n",
    "    j_2 = [i['Corretores'] for i in j_1x if i['status']=='Em andamento']\n",
    "    corretores=[]\n",
    "    for i in j_2:\n",
    "        for j in i:\n",
    "            corretores.append(j)\n",
    "\n",
    "    return corretores"
   ]
  },
  {
   "cell_type": "code",
   "execution_count": null,
   "metadata": {},
   "outputs": [],
   "source": [
    "resultado = filtro_plantao()"
   ]
  },
  {
   "cell_type": "code",
   "execution_count": null,
   "metadata": {},
   "outputs": [],
   "source": [
    "df = pd.DataFrame(resultado)"
   ]
  },
  {
   "cell_type": "code",
   "execution_count": null,
   "metadata": {},
   "outputs": [],
   "source": [
    "timestamp = datetime.timestamp(datetime.now())\n",
    "ted=timestamp<=1641261600000 and timestamp>=1641204000000\n",
    "ted"
   ]
  },
  {
   "cell_type": "code",
   "execution_count": null,
   "metadata": {},
   "outputs": [],
   "source": [
    "test= pd.DataFrame(resultado)\n",
    "test"
   ]
  },
  {
   "cell_type": "code",
   "execution_count": null,
   "metadata": {},
   "outputs": [],
   "source": [
    "df_filtrado =test[(test['DataHoraFim']>=timestamp)]\n",
    "df_filtrado"
   ]
  },
  {
   "cell_type": "code",
   "execution_count": null,
   "metadata": {},
   "outputs": [],
   "source": [
    "df_filtrado['DataHoraFim']=pd.to_datetime(df_filtrado['DataHoraFim'],unit='ms')\n",
    "df_filtrado['DataHoraInicio']=pd.to_datetime(df_filtrado['DataHoraInicio'],unit='ms')\n",
    "df_filtrado"
   ]
  },
  {
   "cell_type": "code",
   "execution_count": null,
   "metadata": {},
   "outputs": [],
   "source": [
    "df2 =pd.DataFrame(resultado)"
   ]
  },
  {
   "cell_type": "code",
   "execution_count": null,
   "metadata": {},
   "outputs": [],
   "source": [
    "df2.describe()"
   ]
  },
  {
   "cell_type": "code",
   "execution_count": null,
   "metadata": {},
   "outputs": [],
   "source": [
    "df2['DataHoraFim']=pd.to_datetime(df2['DataHoraFim'],unit='ms')\n",
    "df2['DataHoraInicio']=pd.to_datetime(df2['DataHoraInicio'],unit='ms')"
   ]
  },
  {
   "cell_type": "code",
   "execution_count": null,
   "metadata": {},
   "outputs": [],
   "source": [
    "df_filtrado =df2[(df2['DataHoraInicio']<=datetime.now()) & (df2['DataHoraFim']>=datetime.now())]"
   ]
  },
  {
   "cell_type": "code",
   "execution_count": null,
   "metadata": {},
   "outputs": [],
   "source": [
    "df_filtrado.describe()"
   ]
  },
  {
   "cell_type": "code",
   "execution_count": null,
   "metadata": {},
   "outputs": [],
   "source": [
    "df_filtrado"
   ]
  },
  {
   "cell_type": "code",
   "execution_count": null,
   "metadata": {},
   "outputs": [],
   "source": [
    "import logging\n",
    "LOG_FILENAME = \"logfileXx.log\"\n",
    "log_format = '%(asctime)s:%(levelname)s:%(filename)s:%(message)s'\n",
    "for handler in logging.root.handlers[:]:\n",
    "    logging.root.removeHandler(handler)\n",
    "logging.basicConfig(filename=LOG_FILENAME,level=logging.DEBUG,format=log_format)    \n",
    "logging.info('Forecastiong Job Started...')\n",
    "logging.debug('abc method started...')"
   ]
  },
  {
   "cell_type": "code",
   "execution_count": null,
   "metadata": {},
   "outputs": [],
   "source": [
    "id_lead_cod_saida=35\n",
    "testo= ('Retorno OK '+ str(id_lead_cod_saida) + ' leads')\n",
    "testo\n"
   ]
  },
  {
   "cell_type": "code",
   "execution_count": null,
   "metadata": {},
   "outputs": [],
   "source": [
    "LOG_FILENAME = \"logfileXx.log\"\n",
    "log_format = '%(asctime)s:%(levelname)s:%(filename)s:%(message)s'\n",
    "logging.basicConfig(filename=LOG_FILENAME,level=logging.DEBUG,format=log_format)\n"
   ]
  },
  {
   "cell_type": "code",
   "execution_count": null,
   "metadata": {},
   "outputs": [],
   "source": [
    "logging.info('formato de entrada incorretoxxxx')"
   ]
  },
  {
   "cell_type": "code",
   "execution_count": 6,
   "metadata": {},
   "outputs": [
    {
     "name": "stderr",
     "output_type": "stream",
     "text": [
      "\n",
      "\n",
      "====== WebDriver manager ======\n",
      "Current google-chrome version is 97.0.4692\n",
      "Get LATEST chromedriver version for 97.0.4692 google-chrome\n",
      "There is no [win32] chromedriver for browser  in cache\n",
      "Trying to download new driver from https://chromedriver.storage.googleapis.com/97.0.4692.71/chromedriver_win32.zip\n",
      "Driver has been saved in cache [C:\\Users\\lumini04\\.wdm\\drivers\\chromedriver\\win32\\97.0.4692.71]\n"
     ]
    },
    {
     "ename": "WebDriverException",
     "evalue": "Message: unknown error: unable to discover open pages\n",
     "output_type": "error",
     "traceback": [
      "\u001b[1;31m---------------------------------------------------------------------------\u001b[0m",
      "\u001b[1;31mWebDriverException\u001b[0m                        Traceback (most recent call last)",
      "\u001b[1;32m<ipython-input-6-0987a487086c>\u001b[0m in \u001b[0;36m<module>\u001b[1;34m\u001b[0m\n\u001b[0;32m      2\u001b[0m \u001b[1;32mfrom\u001b[0m \u001b[0mwebdriver_manager\u001b[0m\u001b[1;33m.\u001b[0m\u001b[0mchrome\u001b[0m \u001b[1;32mimport\u001b[0m \u001b[0mChromeDriverManager\u001b[0m\u001b[1;33m\u001b[0m\u001b[1;33m\u001b[0m\u001b[0m\n\u001b[0;32m      3\u001b[0m \u001b[1;33m\u001b[0m\u001b[0m\n\u001b[1;32m----> 4\u001b[1;33m \u001b[0mdriver\u001b[0m \u001b[1;33m=\u001b[0m \u001b[0mwebdriver\u001b[0m\u001b[1;33m.\u001b[0m\u001b[0mChrome\u001b[0m\u001b[1;33m(\u001b[0m\u001b[0mChromeDriverManager\u001b[0m\u001b[1;33m(\u001b[0m\u001b[1;33m)\u001b[0m\u001b[1;33m.\u001b[0m\u001b[0minstall\u001b[0m\u001b[1;33m(\u001b[0m\u001b[1;33m)\u001b[0m\u001b[1;33m)\u001b[0m\u001b[1;33m\u001b[0m\u001b[1;33m\u001b[0m\u001b[0m\n\u001b[0m",
      "\u001b[1;32mC:\\ProgramData\\Anaconda3\\lib\\site-packages\\selenium\\webdriver\\chrome\\webdriver.py\u001b[0m in \u001b[0;36m__init__\u001b[1;34m(self, executable_path, port, options, service_args, desired_capabilities, service_log_path, chrome_options, keep_alive)\u001b[0m\n\u001b[0;32m     74\u001b[0m \u001b[1;33m\u001b[0m\u001b[0m\n\u001b[0;32m     75\u001b[0m         \u001b[1;32mtry\u001b[0m\u001b[1;33m:\u001b[0m\u001b[1;33m\u001b[0m\u001b[1;33m\u001b[0m\u001b[0m\n\u001b[1;32m---> 76\u001b[1;33m             RemoteWebDriver.__init__(\n\u001b[0m\u001b[0;32m     77\u001b[0m                 \u001b[0mself\u001b[0m\u001b[1;33m,\u001b[0m\u001b[1;33m\u001b[0m\u001b[1;33m\u001b[0m\u001b[0m\n\u001b[0;32m     78\u001b[0m                 command_executor=ChromeRemoteConnection(\n",
      "\u001b[1;32mC:\\ProgramData\\Anaconda3\\lib\\site-packages\\selenium\\webdriver\\remote\\webdriver.py\u001b[0m in \u001b[0;36m__init__\u001b[1;34m(self, command_executor, desired_capabilities, browser_profile, proxy, keep_alive, file_detector, options)\u001b[0m\n\u001b[0;32m    155\u001b[0m             warnings.warn(\"Please use FirefoxOptions to set browser profile\",\n\u001b[0;32m    156\u001b[0m                           DeprecationWarning, stacklevel=2)\n\u001b[1;32m--> 157\u001b[1;33m         \u001b[0mself\u001b[0m\u001b[1;33m.\u001b[0m\u001b[0mstart_session\u001b[0m\u001b[1;33m(\u001b[0m\u001b[0mcapabilities\u001b[0m\u001b[1;33m,\u001b[0m \u001b[0mbrowser_profile\u001b[0m\u001b[1;33m)\u001b[0m\u001b[1;33m\u001b[0m\u001b[1;33m\u001b[0m\u001b[0m\n\u001b[0m\u001b[0;32m    158\u001b[0m         \u001b[0mself\u001b[0m\u001b[1;33m.\u001b[0m\u001b[0m_switch_to\u001b[0m \u001b[1;33m=\u001b[0m \u001b[0mSwitchTo\u001b[0m\u001b[1;33m(\u001b[0m\u001b[0mself\u001b[0m\u001b[1;33m)\u001b[0m\u001b[1;33m\u001b[0m\u001b[1;33m\u001b[0m\u001b[0m\n\u001b[0;32m    159\u001b[0m         \u001b[0mself\u001b[0m\u001b[1;33m.\u001b[0m\u001b[0m_mobile\u001b[0m \u001b[1;33m=\u001b[0m \u001b[0mMobile\u001b[0m\u001b[1;33m(\u001b[0m\u001b[0mself\u001b[0m\u001b[1;33m)\u001b[0m\u001b[1;33m\u001b[0m\u001b[1;33m\u001b[0m\u001b[0m\n",
      "\u001b[1;32mC:\\ProgramData\\Anaconda3\\lib\\site-packages\\selenium\\webdriver\\remote\\webdriver.py\u001b[0m in \u001b[0;36mstart_session\u001b[1;34m(self, capabilities, browser_profile)\u001b[0m\n\u001b[0;32m    250\u001b[0m         parameters = {\"capabilities\": w3c_caps,\n\u001b[0;32m    251\u001b[0m                       \"desiredCapabilities\": capabilities}\n\u001b[1;32m--> 252\u001b[1;33m         \u001b[0mresponse\u001b[0m \u001b[1;33m=\u001b[0m \u001b[0mself\u001b[0m\u001b[1;33m.\u001b[0m\u001b[0mexecute\u001b[0m\u001b[1;33m(\u001b[0m\u001b[0mCommand\u001b[0m\u001b[1;33m.\u001b[0m\u001b[0mNEW_SESSION\u001b[0m\u001b[1;33m,\u001b[0m \u001b[0mparameters\u001b[0m\u001b[1;33m)\u001b[0m\u001b[1;33m\u001b[0m\u001b[1;33m\u001b[0m\u001b[0m\n\u001b[0m\u001b[0;32m    253\u001b[0m         \u001b[1;32mif\u001b[0m \u001b[1;34m'sessionId'\u001b[0m \u001b[1;32mnot\u001b[0m \u001b[1;32min\u001b[0m \u001b[0mresponse\u001b[0m\u001b[1;33m:\u001b[0m\u001b[1;33m\u001b[0m\u001b[1;33m\u001b[0m\u001b[0m\n\u001b[0;32m    254\u001b[0m             \u001b[0mresponse\u001b[0m \u001b[1;33m=\u001b[0m \u001b[0mresponse\u001b[0m\u001b[1;33m[\u001b[0m\u001b[1;34m'value'\u001b[0m\u001b[1;33m]\u001b[0m\u001b[1;33m\u001b[0m\u001b[1;33m\u001b[0m\u001b[0m\n",
      "\u001b[1;32mC:\\ProgramData\\Anaconda3\\lib\\site-packages\\selenium\\webdriver\\remote\\webdriver.py\u001b[0m in \u001b[0;36mexecute\u001b[1;34m(self, driver_command, params)\u001b[0m\n\u001b[0;32m    319\u001b[0m         \u001b[0mresponse\u001b[0m \u001b[1;33m=\u001b[0m \u001b[0mself\u001b[0m\u001b[1;33m.\u001b[0m\u001b[0mcommand_executor\u001b[0m\u001b[1;33m.\u001b[0m\u001b[0mexecute\u001b[0m\u001b[1;33m(\u001b[0m\u001b[0mdriver_command\u001b[0m\u001b[1;33m,\u001b[0m \u001b[0mparams\u001b[0m\u001b[1;33m)\u001b[0m\u001b[1;33m\u001b[0m\u001b[1;33m\u001b[0m\u001b[0m\n\u001b[0;32m    320\u001b[0m         \u001b[1;32mif\u001b[0m \u001b[0mresponse\u001b[0m\u001b[1;33m:\u001b[0m\u001b[1;33m\u001b[0m\u001b[1;33m\u001b[0m\u001b[0m\n\u001b[1;32m--> 321\u001b[1;33m             \u001b[0mself\u001b[0m\u001b[1;33m.\u001b[0m\u001b[0merror_handler\u001b[0m\u001b[1;33m.\u001b[0m\u001b[0mcheck_response\u001b[0m\u001b[1;33m(\u001b[0m\u001b[0mresponse\u001b[0m\u001b[1;33m)\u001b[0m\u001b[1;33m\u001b[0m\u001b[1;33m\u001b[0m\u001b[0m\n\u001b[0m\u001b[0;32m    322\u001b[0m             response['value'] = self._unwrap_value(\n\u001b[0;32m    323\u001b[0m                 response.get('value', None))\n",
      "\u001b[1;32mC:\\ProgramData\\Anaconda3\\lib\\site-packages\\selenium\\webdriver\\remote\\errorhandler.py\u001b[0m in \u001b[0;36mcheck_response\u001b[1;34m(self, response)\u001b[0m\n\u001b[0;32m    240\u001b[0m                 \u001b[0malert_text\u001b[0m \u001b[1;33m=\u001b[0m \u001b[0mvalue\u001b[0m\u001b[1;33m[\u001b[0m\u001b[1;34m'alert'\u001b[0m\u001b[1;33m]\u001b[0m\u001b[1;33m.\u001b[0m\u001b[0mget\u001b[0m\u001b[1;33m(\u001b[0m\u001b[1;34m'text'\u001b[0m\u001b[1;33m)\u001b[0m\u001b[1;33m\u001b[0m\u001b[1;33m\u001b[0m\u001b[0m\n\u001b[0;32m    241\u001b[0m             \u001b[1;32mraise\u001b[0m \u001b[0mexception_class\u001b[0m\u001b[1;33m(\u001b[0m\u001b[0mmessage\u001b[0m\u001b[1;33m,\u001b[0m \u001b[0mscreen\u001b[0m\u001b[1;33m,\u001b[0m \u001b[0mstacktrace\u001b[0m\u001b[1;33m,\u001b[0m \u001b[0malert_text\u001b[0m\u001b[1;33m)\u001b[0m\u001b[1;33m\u001b[0m\u001b[1;33m\u001b[0m\u001b[0m\n\u001b[1;32m--> 242\u001b[1;33m         \u001b[1;32mraise\u001b[0m \u001b[0mexception_class\u001b[0m\u001b[1;33m(\u001b[0m\u001b[0mmessage\u001b[0m\u001b[1;33m,\u001b[0m \u001b[0mscreen\u001b[0m\u001b[1;33m,\u001b[0m \u001b[0mstacktrace\u001b[0m\u001b[1;33m)\u001b[0m\u001b[1;33m\u001b[0m\u001b[1;33m\u001b[0m\u001b[0m\n\u001b[0m\u001b[0;32m    243\u001b[0m \u001b[1;33m\u001b[0m\u001b[0m\n\u001b[0;32m    244\u001b[0m     \u001b[1;32mdef\u001b[0m \u001b[0m_value_or_default\u001b[0m\u001b[1;33m(\u001b[0m\u001b[0mself\u001b[0m\u001b[1;33m,\u001b[0m \u001b[0mobj\u001b[0m\u001b[1;33m,\u001b[0m \u001b[0mkey\u001b[0m\u001b[1;33m,\u001b[0m \u001b[0mdefault\u001b[0m\u001b[1;33m)\u001b[0m\u001b[1;33m:\u001b[0m\u001b[1;33m\u001b[0m\u001b[1;33m\u001b[0m\u001b[0m\n",
      "\u001b[1;31mWebDriverException\u001b[0m: Message: unknown error: unable to discover open pages\n"
     ]
    }
   ],
   "source": [
    "    from selenium import webdriver\n",
    "    from webdriver_manager.chrome import ChromeDriverManager\n",
    "\n",
    "    driver = webdriver.Chrome(ChromeDriverManager().install())"
   ]
  },
  {
   "cell_type": "code",
   "execution_count": 1,
   "metadata": {},
   "outputs": [],
   "source": [
    "from selenium import webdriver \n",
    "from selenium.webdriver.support.ui import Select \n",
    "import time\n",
    "\n"
   ]
  },
  {
   "cell_type": "code",
   "execution_count": 2,
   "metadata": {},
   "outputs": [
    {
     "ename": "WebDriverException",
     "evalue": "Message: unknown error: unable to discover open pages\n",
     "output_type": "error",
     "traceback": [
      "\u001b[1;31m---------------------------------------------------------------------------\u001b[0m",
      "\u001b[1;31mWebDriverException\u001b[0m                        Traceback (most recent call last)",
      "\u001b[1;32m<ipython-input-2-b06f984aebda>\u001b[0m in \u001b[0;36m<module>\u001b[1;34m\u001b[0m\n\u001b[1;32m----> 1\u001b[1;33m \u001b[0mdriver\u001b[0m \u001b[1;33m=\u001b[0m \u001b[0mwebdriver\u001b[0m\u001b[1;33m.\u001b[0m\u001b[0mChrome\u001b[0m\u001b[1;33m(\u001b[0m\u001b[0mexecutable_path\u001b[0m\u001b[1;33m=\u001b[0m\u001b[1;34mr\"C:\\Users\\lumini04\\Desktop\\MOTOR_LEADS_NOVO\\chromedriver.exe\"\u001b[0m\u001b[1;33m)\u001b[0m\u001b[1;33m\u001b[0m\u001b[1;33m\u001b[0m\u001b[0m\n\u001b[0m\u001b[0;32m      2\u001b[0m \u001b[0mdriver\u001b[0m\u001b[1;33m.\u001b[0m\u001b[0mget\u001b[0m\u001b[1;33m(\u001b[0m\u001b[1;34m\"http://qualicorp.com.br\"\u001b[0m\u001b[1;33m)\u001b[0m\u001b[1;33m\u001b[0m\u001b[1;33m\u001b[0m\u001b[0m\n\u001b[0;32m      3\u001b[0m \u001b[1;33m\u001b[0m\u001b[0m\n",
      "\u001b[1;32mC:\\ProgramData\\Anaconda3\\lib\\site-packages\\selenium\\webdriver\\chrome\\webdriver.py\u001b[0m in \u001b[0;36m__init__\u001b[1;34m(self, executable_path, port, options, service_args, desired_capabilities, service_log_path, chrome_options, keep_alive)\u001b[0m\n\u001b[0;32m     74\u001b[0m \u001b[1;33m\u001b[0m\u001b[0m\n\u001b[0;32m     75\u001b[0m         \u001b[1;32mtry\u001b[0m\u001b[1;33m:\u001b[0m\u001b[1;33m\u001b[0m\u001b[1;33m\u001b[0m\u001b[0m\n\u001b[1;32m---> 76\u001b[1;33m             RemoteWebDriver.__init__(\n\u001b[0m\u001b[0;32m     77\u001b[0m                 \u001b[0mself\u001b[0m\u001b[1;33m,\u001b[0m\u001b[1;33m\u001b[0m\u001b[1;33m\u001b[0m\u001b[0m\n\u001b[0;32m     78\u001b[0m                 command_executor=ChromeRemoteConnection(\n",
      "\u001b[1;32mC:\\ProgramData\\Anaconda3\\lib\\site-packages\\selenium\\webdriver\\remote\\webdriver.py\u001b[0m in \u001b[0;36m__init__\u001b[1;34m(self, command_executor, desired_capabilities, browser_profile, proxy, keep_alive, file_detector, options)\u001b[0m\n\u001b[0;32m    155\u001b[0m             warnings.warn(\"Please use FirefoxOptions to set browser profile\",\n\u001b[0;32m    156\u001b[0m                           DeprecationWarning, stacklevel=2)\n\u001b[1;32m--> 157\u001b[1;33m         \u001b[0mself\u001b[0m\u001b[1;33m.\u001b[0m\u001b[0mstart_session\u001b[0m\u001b[1;33m(\u001b[0m\u001b[0mcapabilities\u001b[0m\u001b[1;33m,\u001b[0m \u001b[0mbrowser_profile\u001b[0m\u001b[1;33m)\u001b[0m\u001b[1;33m\u001b[0m\u001b[1;33m\u001b[0m\u001b[0m\n\u001b[0m\u001b[0;32m    158\u001b[0m         \u001b[0mself\u001b[0m\u001b[1;33m.\u001b[0m\u001b[0m_switch_to\u001b[0m \u001b[1;33m=\u001b[0m \u001b[0mSwitchTo\u001b[0m\u001b[1;33m(\u001b[0m\u001b[0mself\u001b[0m\u001b[1;33m)\u001b[0m\u001b[1;33m\u001b[0m\u001b[1;33m\u001b[0m\u001b[0m\n\u001b[0;32m    159\u001b[0m         \u001b[0mself\u001b[0m\u001b[1;33m.\u001b[0m\u001b[0m_mobile\u001b[0m \u001b[1;33m=\u001b[0m \u001b[0mMobile\u001b[0m\u001b[1;33m(\u001b[0m\u001b[0mself\u001b[0m\u001b[1;33m)\u001b[0m\u001b[1;33m\u001b[0m\u001b[1;33m\u001b[0m\u001b[0m\n",
      "\u001b[1;32mC:\\ProgramData\\Anaconda3\\lib\\site-packages\\selenium\\webdriver\\remote\\webdriver.py\u001b[0m in \u001b[0;36mstart_session\u001b[1;34m(self, capabilities, browser_profile)\u001b[0m\n\u001b[0;32m    250\u001b[0m         parameters = {\"capabilities\": w3c_caps,\n\u001b[0;32m    251\u001b[0m                       \"desiredCapabilities\": capabilities}\n\u001b[1;32m--> 252\u001b[1;33m         \u001b[0mresponse\u001b[0m \u001b[1;33m=\u001b[0m \u001b[0mself\u001b[0m\u001b[1;33m.\u001b[0m\u001b[0mexecute\u001b[0m\u001b[1;33m(\u001b[0m\u001b[0mCommand\u001b[0m\u001b[1;33m.\u001b[0m\u001b[0mNEW_SESSION\u001b[0m\u001b[1;33m,\u001b[0m \u001b[0mparameters\u001b[0m\u001b[1;33m)\u001b[0m\u001b[1;33m\u001b[0m\u001b[1;33m\u001b[0m\u001b[0m\n\u001b[0m\u001b[0;32m    253\u001b[0m         \u001b[1;32mif\u001b[0m \u001b[1;34m'sessionId'\u001b[0m \u001b[1;32mnot\u001b[0m \u001b[1;32min\u001b[0m \u001b[0mresponse\u001b[0m\u001b[1;33m:\u001b[0m\u001b[1;33m\u001b[0m\u001b[1;33m\u001b[0m\u001b[0m\n\u001b[0;32m    254\u001b[0m             \u001b[0mresponse\u001b[0m \u001b[1;33m=\u001b[0m \u001b[0mresponse\u001b[0m\u001b[1;33m[\u001b[0m\u001b[1;34m'value'\u001b[0m\u001b[1;33m]\u001b[0m\u001b[1;33m\u001b[0m\u001b[1;33m\u001b[0m\u001b[0m\n",
      "\u001b[1;32mC:\\ProgramData\\Anaconda3\\lib\\site-packages\\selenium\\webdriver\\remote\\webdriver.py\u001b[0m in \u001b[0;36mexecute\u001b[1;34m(self, driver_command, params)\u001b[0m\n\u001b[0;32m    319\u001b[0m         \u001b[0mresponse\u001b[0m \u001b[1;33m=\u001b[0m \u001b[0mself\u001b[0m\u001b[1;33m.\u001b[0m\u001b[0mcommand_executor\u001b[0m\u001b[1;33m.\u001b[0m\u001b[0mexecute\u001b[0m\u001b[1;33m(\u001b[0m\u001b[0mdriver_command\u001b[0m\u001b[1;33m,\u001b[0m \u001b[0mparams\u001b[0m\u001b[1;33m)\u001b[0m\u001b[1;33m\u001b[0m\u001b[1;33m\u001b[0m\u001b[0m\n\u001b[0;32m    320\u001b[0m         \u001b[1;32mif\u001b[0m \u001b[0mresponse\u001b[0m\u001b[1;33m:\u001b[0m\u001b[1;33m\u001b[0m\u001b[1;33m\u001b[0m\u001b[0m\n\u001b[1;32m--> 321\u001b[1;33m             \u001b[0mself\u001b[0m\u001b[1;33m.\u001b[0m\u001b[0merror_handler\u001b[0m\u001b[1;33m.\u001b[0m\u001b[0mcheck_response\u001b[0m\u001b[1;33m(\u001b[0m\u001b[0mresponse\u001b[0m\u001b[1;33m)\u001b[0m\u001b[1;33m\u001b[0m\u001b[1;33m\u001b[0m\u001b[0m\n\u001b[0m\u001b[0;32m    322\u001b[0m             response['value'] = self._unwrap_value(\n\u001b[0;32m    323\u001b[0m                 response.get('value', None))\n",
      "\u001b[1;32mC:\\ProgramData\\Anaconda3\\lib\\site-packages\\selenium\\webdriver\\remote\\errorhandler.py\u001b[0m in \u001b[0;36mcheck_response\u001b[1;34m(self, response)\u001b[0m\n\u001b[0;32m    240\u001b[0m                 \u001b[0malert_text\u001b[0m \u001b[1;33m=\u001b[0m \u001b[0mvalue\u001b[0m\u001b[1;33m[\u001b[0m\u001b[1;34m'alert'\u001b[0m\u001b[1;33m]\u001b[0m\u001b[1;33m.\u001b[0m\u001b[0mget\u001b[0m\u001b[1;33m(\u001b[0m\u001b[1;34m'text'\u001b[0m\u001b[1;33m)\u001b[0m\u001b[1;33m\u001b[0m\u001b[1;33m\u001b[0m\u001b[0m\n\u001b[0;32m    241\u001b[0m             \u001b[1;32mraise\u001b[0m \u001b[0mexception_class\u001b[0m\u001b[1;33m(\u001b[0m\u001b[0mmessage\u001b[0m\u001b[1;33m,\u001b[0m \u001b[0mscreen\u001b[0m\u001b[1;33m,\u001b[0m \u001b[0mstacktrace\u001b[0m\u001b[1;33m,\u001b[0m \u001b[0malert_text\u001b[0m\u001b[1;33m)\u001b[0m\u001b[1;33m\u001b[0m\u001b[1;33m\u001b[0m\u001b[0m\n\u001b[1;32m--> 242\u001b[1;33m         \u001b[1;32mraise\u001b[0m \u001b[0mexception_class\u001b[0m\u001b[1;33m(\u001b[0m\u001b[0mmessage\u001b[0m\u001b[1;33m,\u001b[0m \u001b[0mscreen\u001b[0m\u001b[1;33m,\u001b[0m \u001b[0mstacktrace\u001b[0m\u001b[1;33m)\u001b[0m\u001b[1;33m\u001b[0m\u001b[1;33m\u001b[0m\u001b[0m\n\u001b[0m\u001b[0;32m    243\u001b[0m \u001b[1;33m\u001b[0m\u001b[0m\n\u001b[0;32m    244\u001b[0m     \u001b[1;32mdef\u001b[0m \u001b[0m_value_or_default\u001b[0m\u001b[1;33m(\u001b[0m\u001b[0mself\u001b[0m\u001b[1;33m,\u001b[0m \u001b[0mobj\u001b[0m\u001b[1;33m,\u001b[0m \u001b[0mkey\u001b[0m\u001b[1;33m,\u001b[0m \u001b[0mdefault\u001b[0m\u001b[1;33m)\u001b[0m\u001b[1;33m:\u001b[0m\u001b[1;33m\u001b[0m\u001b[1;33m\u001b[0m\u001b[0m\n",
      "\u001b[1;31mWebDriverException\u001b[0m: Message: unknown error: unable to discover open pages\n"
     ]
    }
   ],
   "source": [
    "driver = webdriver.Chrome(executable_path=r\"C:\\Users\\lumini04\\Desktop\\MOTOR_LEADS_NOVO\\chromedriver.exe\") \n",
    "driver.get(\"http://qualicorp.com.br\")\n",
    "\n"
   ]
  },
  {
   "cell_type": "code",
   "execution_count": null,
   "metadata": {},
   "outputs": [],
   "source": []
  },
  {
   "cell_type": "code",
   "execution_count": null,
   "metadata": {},
   "outputs": [],
   "source": [
    "driver.find_element_by_link_text(\"Para você e sua familia\").click()\n",
    "driver.find_element_by_link_text(\"Diferenciais Quali\").click() \n",
    "handles = driver.window_handles \n",
    "\n",
    "for i in handles: \n",
    "    driver.switch_to.window(i) \n",
    "    time.sleep(2) \n",
    "    driver.close()"
   ]
  },
  {
   "cell_type": "code",
   "execution_count": null,
   "metadata": {},
   "outputs": [],
   "source": [
    "main_window_handle = None\n",
    "while not main_window_handle:\n",
    "    main_window_handle = driver.current_window_handle\n",
    "driver.find_element_by_link_text(\"Para você e sua familia\").click()\n",
    "driver.find_element_by_link_text(\"Diferenciais Quali\").click() "
   ]
  },
  {
   "cell_type": "code",
   "execution_count": null,
   "metadata": {},
   "outputs": [],
   "source": [
    "#corretores \n",
    "response = requests.request('POST', config.URL_PLANTAO, headers=config.HEADERS, data=Body)"
   ]
  }
 ],
 "metadata": {
  "kernelspec": {
   "display_name": "Python 3",
   "language": "python",
   "name": "python3"
  },
  "language_info": {
   "codemirror_mode": {
    "name": "ipython",
    "version": 3
   },
   "file_extension": ".py",
   "mimetype": "text/x-python",
   "name": "python",
   "nbconvert_exporter": "python",
   "pygments_lexer": "ipython3",
   "version": "3.8.3"
  }
 },
 "nbformat": 4,
 "nbformat_minor": 4
}
